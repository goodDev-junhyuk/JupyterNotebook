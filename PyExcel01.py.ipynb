{
 "cells": [
  {
   "cell_type": "code",
   "execution_count": 1,
   "metadata": {},
   "outputs": [
    {
     "name": "stdout",
     "output_type": "stream",
     "text": [
      "Hello Jupyter Notebook!\n"
     ]
    }
   ],
   "source": [
    "print(\"Hello Jupyter Notebook!\")"
   ]
  },
  {
   "cell_type": "code",
   "execution_count": 2,
   "metadata": {},
   "outputs": [
    {
     "name": "stdout",
     "output_type": "stream",
     "text": [
      "12440\n"
     ]
    }
   ],
   "source": [
    "abc = 12340\n",
    "print(abc + 100)"
   ]
  },
  {
   "cell_type": "code",
   "execution_count": 3,
   "metadata": {},
   "outputs": [
    {
     "name": "stdout",
     "output_type": "stream",
     "text": [
      "False\n"
     ]
    }
   ],
   "source": [
    "print(10 == 5)"
   ]
  },
  {
   "cell_type": "code",
   "execution_count": 6,
   "metadata": {},
   "outputs": [
    {
     "name": "stdout",
     "output_type": "stream",
     "text": [
      "합격\n"
     ]
    }
   ],
   "source": [
    "x = 95\n",
    "\n",
    "if x >= 90:\n",
    "    print(\"합격\")\n",
    "    "
   ]
  },
  {
   "cell_type": "code",
   "execution_count": 10,
   "metadata": {},
   "outputs": [
    {
     "name": "stdout",
     "output_type": "stream",
     "text": [
      "학점 : B\n"
     ]
    }
   ],
   "source": [
    "x = 85\n",
    "\n",
    "if x >=90:\n",
    "    print(\"학점 : A\")\n",
    "\n",
    "elif 80 <= x:\n",
    "    print(\"학점 : B\")"
   ]
  },
  {
   "cell_type": "code",
   "execution_count": 11,
   "metadata": {},
   "outputs": [
    {
     "data": {
      "text/plain": [
       "[0, 1, 2, 3, 4, 5, 6, 7, 8, 9]"
      ]
     },
     "execution_count": 11,
     "metadata": {},
     "output_type": "execute_result"
    }
   ],
   "source": [
    "list(range(0, 10, 1))"
   ]
  },
  {
   "cell_type": "code",
   "execution_count": 12,
   "metadata": {},
   "outputs": [
    {
     "data": {
      "text/plain": [
       "[0, 3, 6, 9, 12, 15, 18]"
      ]
     },
     "execution_count": 12,
     "metadata": {},
     "output_type": "execute_result"
    }
   ],
   "source": [
    "list(range(0, 20, 3))"
   ]
  },
  {
   "cell_type": "code",
   "execution_count": 13,
   "metadata": {},
   "outputs": [
    {
     "name": "stdout",
     "output_type": "stream",
     "text": [
      "0\n",
      "1\n",
      "2\n",
      "3\n",
      "4\n",
      "5\n"
     ]
    }
   ],
   "source": [
    "for num in range(6):\n",
    "    print(num)"
   ]
  },
  {
   "cell_type": "code",
   "execution_count": 16,
   "metadata": {},
   "outputs": [
    {
     "name": "stdout",
     "output_type": "stream",
     "text": [
      "동백 96\n",
      "용식 85\n",
      "자영 100\n",
      "규태 70\n",
      "종렬 80\n",
      "향미 75\n"
     ]
    }
   ],
   "source": [
    "names = [\"동백\", \"용식\", \"자영\", \"규태\", \"종렬\", \"향미\"]\n",
    "scores = [96, 85, 100, 70, 80, 75]\n",
    "\n",
    "for k in range(len(names)):\n",
    "    print(names[k], scores[k])"
   ]
  },
  {
   "cell_type": "code",
   "execution_count": 17,
   "metadata": {},
   "outputs": [
    {
     "name": "stdout",
     "output_type": "stream",
     "text": [
      "동백 96\n",
      "용식 85\n",
      "자영 100\n",
      "규태 70\n",
      "종렬 80\n",
      "향미 75\n"
     ]
    }
   ],
   "source": [
    "for name, score in zip(names, scores):\n",
    "    print(name, score)"
   ]
  },
  {
   "cell_type": "code",
   "execution_count": 1,
   "metadata": {},
   "outputs": [
    {
     "name": "stdout",
     "output_type": "stream",
     "text": [
      "[7, 9, 11, 13, 15, 17, 19, 21]\n"
     ]
    }
   ],
   "source": [
    "numbers = [0, 1, 2, 3, 4, 5, 6, 7, 8, 9, 10]\n",
    "\n",
    "result = [2*x+1 for x in numbers if x>=3]\n",
    "print(result)"
   ]
  },
  {
   "cell_type": "code",
   "execution_count": 1,
   "metadata": {},
   "outputs": [
    {
     "name": "stdout",
     "output_type": "stream",
     "text": [
      "1\n",
      "3\n",
      "6\n",
      "10\n",
      "while 문을 끝냅니다.\n"
     ]
    }
   ],
   "source": [
    "# 반복의 흐름을 바꾸는 break와 continue\n",
    "num = [1, 2, 3, 4, 5, 6]\n",
    "num_sum = 0 # 숫자의 합계를 0으로 초기화\n",
    "count = 0 # count를 0으로 초기화.\n",
    "\n",
    "while True:\n",
    "    num_sum = num_sum + num[count] #리스트 num의 요소를 하나씩 더함\n",
    "    print(num_sum)\n",
    "    if (num_sum >= 10):\n",
    "        print(\"while 문을 끝냅니다.\")\n",
    "        break #while 문을 끝냄. \n",
    "        \n",
    "    count = count + 1 #count를 1씩 증가."
   ]
  },
  {
   "cell_type": "code",
   "execution_count": 4,
   "metadata": {},
   "outputs": [
    {
     "name": "stdout",
     "output_type": "stream",
     "text": [
      "파이(소수점 6자리까지): 3.141592\n",
      "반지름이 2인 원의 넓이 :  12.57\n"
     ]
    }
   ],
   "source": [
    "r = 2\n",
    "pi = 3.141592\n",
    "\n",
    "print(f\"파이(소수점 6자리까지): {pi:.6f}\")\n",
    "print(F\"반지름이 {r}인 원의 넓이 :  {pi*r**2:.2f}\")"
   ]
  },
  {
   "cell_type": "code",
   "execution_count": 5,
   "metadata": {},
   "outputs": [
    {
     "name": "stdout",
     "output_type": "stream",
     "text": [
      "==========\n",
      "(^0^)\n",
      "==========\n"
     ]
    }
   ],
   "source": [
    "def my_emotion():\n",
    "    print(\"==========\")\n",
    "    print(\"(^0^)\")\n",
    "    print(\"==========\")\n",
    "    \n",
    "my_emotion()"
   ]
  },
  {
   "cell_type": "code",
   "execution_count": 6,
   "metadata": {},
   "outputs": [
    {
     "name": "stdout",
     "output_type": "stream",
     "text": [
      "게임정보\n",
      "이름:  고독한 방랑자\n",
      "버전:  2.02\n",
      "장르:  MMORPG\n"
     ]
    }
   ],
   "source": [
    "def game_info_display(name, version, genre):\n",
    "    print(\"게임정보\")\n",
    "    print(\"이름: \", name)\n",
    "    print(\"버전: \", version)\n",
    "    print(\"장르: \", genre)\n",
    "    \n",
    "game_info_display(\"고독한 방랑자\", \"2.02\", \"MMORPG\")\n",
    "    "
   ]
  },
  {
   "cell_type": "code",
   "execution_count": 8,
   "metadata": {},
   "outputs": [
    {
     "data": {
      "text/plain": [
       "11"
      ]
     },
     "execution_count": 8,
     "metadata": {},
     "output_type": "execute_result"
    }
   ],
   "source": [
    "def my_func(x):\n",
    "    y = 2*x + 1\n",
    "    return y\n",
    "\n",
    "my_func(3)\n",
    "my_func(5)"
   ]
  },
  {
   "cell_type": "code",
   "execution_count": 9,
   "metadata": {},
   "outputs": [
    {
     "data": {
      "text/plain": [
       "23"
      ]
     },
     "execution_count": 9,
     "metadata": {},
     "output_type": "execute_result"
    }
   ],
   "source": [
    "my_func(11)"
   ]
  },
  {
   "cell_type": "code",
   "execution_count": 1,
   "metadata": {},
   "outputs": [],
   "source": [
    "def my_add2(a, b, c=3, d=4):\n",
    "    y = a + b + c + d\n",
    "    print(\"{0} + {1} + {2} + {3} + {4}\".format(a, b, c, d, y))\n",
    "    "
   ]
  },
  {
   "cell_type": "code",
   "execution_count": 3,
   "metadata": {},
   "outputs": [
    {
     "name": "stdout",
     "output_type": "stream",
     "text": [
      "1 + 2 + 3 + 4 + 10\n"
     ]
    }
   ],
   "source": [
    "my_add2(1, 2)"
   ]
  },
  {
   "cell_type": "code",
   "execution_count": 4,
   "metadata": {},
   "outputs": [
    {
     "name": "stdout",
     "output_type": "stream",
     "text": [
      "1 + 2 + 13 + 4 + 20\n"
     ]
    }
   ],
   "source": [
    "my_add2(1, 2, 13)"
   ]
  },
  {
   "cell_type": "code",
   "execution_count": 1,
   "metadata": {},
   "outputs": [
    {
     "name": "stdout",
     "output_type": "stream",
     "text": [
      "9\n"
     ]
    }
   ],
   "source": [
    "print(3**2)"
   ]
  },
  {
   "cell_type": "code",
   "execution_count": 2,
   "metadata": {},
   "outputs": [
    {
     "name": "stdout",
     "output_type": "stream",
     "text": [
      "287496\n"
     ]
    }
   ],
   "source": [
    "print(66**3)"
   ]
  },
  {
   "cell_type": "code",
   "execution_count": 1,
   "metadata": {},
   "outputs": [
    {
     "name": "stdout",
     "output_type": "stream",
     "text": [
      "최소: -2\n",
      "최대: 5\n",
      "합계: 12\n"
     ]
    }
   ],
   "source": [
    "list_data = [-2, -1, 0, 1, 2, 3, 4, 5]\n",
    "\n",
    "print(\"최소:\", min(list_data))\n",
    "print(\"최대:\", max(list_data))\n",
    "print(\"합계:\", sum(list_data))"
   ]
  },
  {
   "cell_type": "code",
   "execution_count": 2,
   "metadata": {},
   "outputs": [
    {
     "data": {
      "text/plain": [
       "(45, 5.0)"
      ]
     },
     "execution_count": 2,
     "metadata": {},
     "output_type": "execute_result"
    }
   ],
   "source": [
    "def calc_sum_mean(list_data):\n",
    "    e_count = 0\n",
    "    e_sum = 0\n",
    "    \n",
    "    for element in list_data:\n",
    "        e_count = e_count + 1\n",
    "        e_sum = e_sum + element\n",
    "    e_mean = e_sum / e_count\n",
    "    \n",
    "    return e_sum, e_mean\n",
    "\n",
    "calc_sum_mean([1, 2, 3, 4, 5, 6, 7, 8, 9, ])"
   ]
  },
  {
   "cell_type": "code",
   "execution_count": 3,
   "metadata": {},
   "outputs": [
    {
     "name": "stdout",
     "output_type": "stream",
     "text": [
      "45\n",
      "5.0\n"
     ]
    }
   ],
   "source": [
    "list_sum, list_mean = calc_sum_mean([1, 2, 3, 4, 5, 6, 7, 8, 9,])\n",
    "\n",
    "print(list_sum)\n",
    "print(list_mean)"
   ]
  },
  {
   "cell_type": "code",
   "execution_count": 13,
   "metadata": {},
   "outputs": [],
   "source": [
    "def my_add(a=1, b=2, c=3):\n",
    "    y = a + b + c\n",
    "    print(\"{0} + {1} + {2} = {3}\".format(a, b, c, y))"
   ]
  },
  {
   "cell_type": "code",
   "execution_count": 14,
   "metadata": {},
   "outputs": [
    {
     "name": "stdout",
     "output_type": "stream",
     "text": [
      "1 + 2 + 3 = 6\n"
     ]
    }
   ],
   "source": [
    "my_add()"
   ]
  },
  {
   "cell_type": "code",
   "execution_count": 15,
   "metadata": {},
   "outputs": [
    {
     "name": "stdout",
     "output_type": "stream",
     "text": [
      "11 + 2 + 3 = 16\n"
     ]
    }
   ],
   "source": [
    "my_add(11)"
   ]
  },
  {
   "cell_type": "code",
   "execution_count": 16,
   "metadata": {},
   "outputs": [
    {
     "name": "stdout",
     "output_type": "stream",
     "text": [
      "11 + 12 + 3 = 26\n"
     ]
    }
   ],
   "source": [
    "my_add(11, 12)"
   ]
  },
  {
   "cell_type": "code",
   "execution_count": 17,
   "metadata": {},
   "outputs": [
    {
     "name": "stdout",
     "output_type": "stream",
     "text": [
      "11 + 12 + 13 = 36\n"
     ]
    }
   ],
   "source": [
    "my_add(11, 12, 13)"
   ]
  },
  {
   "cell_type": "code",
   "execution_count": 19,
   "metadata": {},
   "outputs": [],
   "source": [
    "# 전역변수 : 어디서나 사용\n",
    "\n",
    "a = 10\n",
    "\n",
    "def func1():\n",
    "    a = 1 #지역변수, 함수func1() 내에서만 사용\n",
    "    print(\"[func1()] 지역 변수 a =\", a)\n",
    "    \n",
    "def func2():\n",
    "    a = 2\n",
    "    print(\"[func2()] 지역 변수 a =\", a)\n",
    "    \n",
    "def func3():\n",
    "    print(\"[func2()] 전역 변수 a =\", a)\n",
    "    \n",
    "def func4():\n",
    "    global a #함수 내에서 전역 변수를 변경하려면 반드시 'global 전역변수명' 선언 필요\n",
    "    a = 20 #전역 변수의 값 변경\n",
    "    print(\"[func2()] 전역 변수 a =\", a)"
   ]
  },
  {
   "cell_type": "code",
   "execution_count": 20,
   "metadata": {},
   "outputs": [
    {
     "name": "stdout",
     "output_type": "stream",
     "text": [
      "[func1()] 지역 변수 a =  1\n"
     ]
    }
   ],
   "source": [
    "func1()"
   ]
  },
  {
   "cell_type": "code",
   "execution_count": 21,
   "metadata": {},
   "outputs": [
    {
     "name": "stdout",
     "output_type": "stream",
     "text": [
      "[func2()] 지역 변수 a =  2\n"
     ]
    }
   ],
   "source": [
    "func2()"
   ]
  },
  {
   "cell_type": "code",
   "execution_count": 22,
   "metadata": {},
   "outputs": [
    {
     "name": "stdout",
     "output_type": "stream",
     "text": [
      "[func2()] 전역 변수 a =  10\n"
     ]
    }
   ],
   "source": [
    "func3()"
   ]
  },
  {
   "cell_type": "code",
   "execution_count": 23,
   "metadata": {},
   "outputs": [
    {
     "name": "stdout",
     "output_type": "stream",
     "text": [
      "[func2()] 전역 변수 a =  20\n"
     ]
    }
   ],
   "source": [
    "func4()"
   ]
  },
  {
   "cell_type": "code",
   "execution_count": 3,
   "metadata": {},
   "outputs": [
    {
     "data": {
      "text/plain": [
       "([<matplotlib.patches.Wedge at 0x7fc53ff1adf0>,\n",
       "  <matplotlib.patches.Wedge at 0x7fc53ff1a460>,\n",
       "  <matplotlib.patches.Wedge at 0x7fc53eb0b5b0>,\n",
       "  <matplotlib.patches.Wedge at 0x7fc53fe89ac0>],\n",
       " [Text(0.5299290306818475, 0.9639373540021144, 'Apple'),\n",
       "  Text(-1.1, 1.3471114790620887e-16, 'Banana'),\n",
       "  Text(-0.06906960848527934, -1.0978293989430645, 'Melon'),\n",
       "  Text(0.928760704807937, -0.5894094953465411, 'Grapes')],\n",
       " [Text(0.289052198553735, 0.5257840112738805, '34.0%'),\n",
       "  Text(-0.6, 7.347880794884119e-17, '32.0%'),\n",
       "  Text(-0.037674331901061446, -0.598816035787126, '16.0%'),\n",
       "  Text(0.5065967480770565, -0.3214960883708406, '18.0%')])"
      ]
     },
     "execution_count": 3,
     "metadata": {},
     "output_type": "execute_result"
    },
    {
     "data": {
      "image/png": "[encoded data removed]",
      "text/plain": [
       "<Figure size 432x288 with 1 Axes>"
      ]
     },
     "metadata": {},
     "output_type": "display_data"
    }
   ],
   "source": [
    "import matplotlib.pyplot as plt\n",
    "\n",
    "ratio = [34, 32, 16, 18]\n",
    "labels = ['Apple', 'Banana', 'Melon', 'Grapes']\n",
    "\n",
    "plt.pie(ratio, labels=labels, autopct='%.1f%%')"
   ]
  },
  {
   "cell_type": "code",
   "execution_count": null,
   "metadata": {},
   "outputs": [],
   "source": []
  }
 ],
 "metadata": {
  "kernelspec": {
   "display_name": "Python 3",
   "language": "python",
   "name": "python3"
  },
  "language_info": {
   "codemirror_mode": {
    "name": "ipython",
    "version": 3
   },
   "file_extension": ".py",
   "mimetype": "text/x-python",
   "name": "python",
   "nbconvert_exporter": "python",
   "pygments_lexer": "ipython3",
   "version": "3.8.2"
  }
 },
 "nbformat": 4,
 "nbformat_minor": 4
}
